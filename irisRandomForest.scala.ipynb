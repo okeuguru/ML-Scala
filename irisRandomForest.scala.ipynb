{
 "cells": [
  {
   "cell_type": "markdown",
   "metadata": {},
   "source": [
    "# Iris data classification using scala"
   ]
  },
  {
   "cell_type": "markdown",
   "metadata": {},
   "source": [
    "This analysis is from the apache spark documents website (https://spark.apache.org/docs/2.1.0/ml-classification-regression.html#random-forest-classifier), and shows the steps used to construct a classification model in scala using the iris data set. \n",
    "\n",
    "The readme file shows how to configure jupyter to run this example."
   ]
  },
  {
   "cell_type": "markdown",
   "metadata": {},
   "source": [
    "The data set used for this classification is in *LIBSVM* format. more details on LIBSVM can be found here (https://www.csie.ntu.edu.tw/~cjlin/libsvm/faq.html#/Q3:_Data_preparation). \n",
    "\n",
    "The **LIBSVM** data format stores data in a parse array form that ensures only non-zero data points are stored."
   ]
  },
  {
   "cell_type": "code",
   "execution_count": 1,
   "metadata": {},
   "outputs": [],
   "source": [
    "import org.apache.spark.ml.Pipeline\n",
    "import org.apache.spark.ml.classification.{RandomForestClassificationModel, RandomForestClassifier}\n",
    "import org.apache.spark.ml.evaluation.MulticlassClassificationEvaluator\n",
    "import org.apache.spark.ml.feature.{IndexToString, StringIndexer, VectorIndexer}"
   ]
  },
  {
   "cell_type": "code",
   "execution_count": 3,
   "metadata": {},
   "outputs": [
    {
     "data": {
      "text/plain": [
       "data = [label: double, features: vector]\n"
      ]
     },
     "metadata": {},
     "output_type": "display_data"
    },
    {
     "data": {
      "text/plain": [
       "lastException: Throwable = null\n"
      ]
     },
     "metadata": {},
     "output_type": "display_data"
    },
    {
     "data": {
      "text/plain": [
       "[label: double, features: vector]"
      ]
     },
     "execution_count": 3,
     "metadata": {},
     "output_type": "execute_result"
    }
   ],
   "source": [
    "// Load and parse the data file, converting it to a DataFrame.\n",
    "val data = spark.read.format(\"libsvm\").load(\"data/iris_libsvm.txt\")"
   ]
  },
  {
   "cell_type": "code",
   "execution_count": 5,
   "metadata": {},
   "outputs": [
    {
     "data": {
      "text/plain": [
       "labelIndexer = strIdx_fc2642244120\n",
       "featureIndexer = vecIdx_d1ddb36a2306\n",
       "trainingData = [label: double, features: vector]\n",
       "testData = [label: double, features: vector]\n"
      ]
     },
     "metadata": {},
     "output_type": "display_data"
    },
    {
     "data": {
      "text/plain": [
       "[label: double, features: vector]"
      ]
     },
     "execution_count": 5,
     "metadata": {},
     "output_type": "execute_result"
    }
   ],
   "source": [
    "// Index labels, adding metadata to the label column.\n",
    "// Fit on whole dataset to include all labels in index.\n",
    "val labelIndexer = new StringIndexer()\n",
    "  .setInputCol(\"label\")\n",
    "  .setOutputCol(\"indexedLabel\")\n",
    "  .fit(data)\n",
    "// Automatically identify categorical features, and index them.\n",
    "// Set maxCategories so features with > 4 distinct values are treated as continuous.\n",
    "val featureIndexer = new VectorIndexer()\n",
    "  .setInputCol(\"features\")\n",
    "  .setOutputCol(\"indexedFeatures\")\n",
    "  .setMaxCategories(4)\n",
    "  .fit(data)\n",
    "\n",
    "// Split the data into training and test sets (30% held out for testing).\n",
    "val Array(trainingData, testData) = data.randomSplit(Array(0.7, 0.3))"
   ]
  },
  {
   "cell_type": "code",
   "execution_count": 6,
   "metadata": {},
   "outputs": [
    {
     "data": {
      "text/plain": [
       "rf = rfc_820a84b73246\n",
       "labelConverter = idxToStr_7903f0ed7588\n",
       "pipeline = pipeline_e941f714de3c\n",
       "model = pipeline_e941f714de3c\n"
      ]
     },
     "metadata": {},
     "output_type": "display_data"
    },
    {
     "data": {
      "text/plain": [
       "pipeline_e941f714de3c"
      ]
     },
     "execution_count": 6,
     "metadata": {},
     "output_type": "execute_result"
    }
   ],
   "source": [
    "// Train a RandomForest model.\n",
    "val rf = new RandomForestClassifier()\n",
    "  .setLabelCol(\"indexedLabel\")\n",
    "  .setFeaturesCol(\"indexedFeatures\")\n",
    "  .setNumTrees(10)\n",
    "\n",
    "// Convert indexed labels back to original labels.\n",
    "val labelConverter = new IndexToString()\n",
    "  .setInputCol(\"prediction\")\n",
    "  .setOutputCol(\"predictedLabel\")\n",
    "  .setLabels(labelIndexer.labels)\n",
    "\n",
    "// Chain indexers and forest in a Pipeline.\n",
    "val pipeline = new Pipeline()\n",
    "  .setStages(Array(labelIndexer, featureIndexer, rf, labelConverter))\n",
    "\n",
    "// Train model. This also runs the indexers.\n",
    "val model = pipeline.fit(trainingData)"
   ]
  },
  {
   "cell_type": "code",
   "execution_count": 7,
   "metadata": {},
   "outputs": [
    {
     "name": "stdout",
     "output_type": "stream",
     "text": [
      "+--------------+-----+--------------------+\n",
      "|predictedLabel|label|            features|\n",
      "+--------------+-----+--------------------+\n",
      "|           1.0|  1.0|(4,[0,1,2,3],[-0....|\n",
      "|           1.0|  1.0|(4,[0,1,2,3],[-0....|\n",
      "|           1.0|  1.0|(4,[0,1,2,3],[-0....|\n",
      "|           1.0|  1.0|(4,[0,1,2,3],[-0....|\n",
      "|           1.0|  1.0|(4,[0,1,2,3],[-0....|\n",
      "+--------------+-----+--------------------+\n",
      "only showing top 5 rows\n",
      "\n",
      "Test Error = 0.0\n",
      "Learned classification forest model:\n",
      "RandomForestClassificationModel (uid=rfc_820a84b73246) with 10 trees\n",
      "  Tree 0 (weight 1.0):\n",
      "    If (feature 3 <= -0.625)\n",
      "     Predict: 0.0\n",
      "    Else (feature 3 > -0.625)\n",
      "     If (feature 3 <= 0.375)\n",
      "      If (feature 3 <= 0.12500015)\n",
      "       Predict: 2.0\n",
      "      Else (feature 3 > 0.12500015)\n",
      "       If (feature 2 <= 0.4067795)\n",
      "        If (feature 0 <= -0.638889)\n",
      "         Predict: 1.0\n",
      "        Else (feature 0 > -0.638889)\n",
      "         Predict: 2.0\n",
      "       Else (feature 2 > 0.4067795)\n",
      "        Predict: 1.0\n",
      "     Else (feature 3 > 0.375)\n",
      "      If (feature 2 <= 0.305085)\n",
      "       If (feature 0 <= -0.0833333)\n",
      "        Predict: 2.0\n",
      "       Else (feature 0 > -0.0833333)\n",
      "        Predict: 1.0\n",
      "      Else (feature 2 > 0.305085)\n",
      "       Predict: 1.0\n",
      "  Tree 1 (weight 1.0):\n",
      "    If (feature 3 <= -0.625)\n",
      "     Predict: 0.0\n",
      "    Else (feature 3 > -0.625)\n",
      "     If (feature 3 <= 0.2916665)\n",
      "      If (feature 2 <= 0.2711865)\n",
      "       Predict: 2.0\n",
      "      Else (feature 2 > 0.2711865)\n",
      "       If (feature 1 <= -0.4583335)\n",
      "        Predict: 1.0\n",
      "       Else (feature 1 > -0.4583335)\n",
      "        If (feature 0 <= -0.0277778662275)\n",
      "         Predict: 2.0\n",
      "        Else (feature 0 > -0.0277778662275)\n",
      "         Predict: 1.0\n",
      "     Else (feature 3 > 0.2916665)\n",
      "      If (feature 0 <= -0.0833333)\n",
      "       If (feature 1 <= -0.1250002)\n",
      "        Predict: 1.0\n",
      "       Else (feature 1 > -0.1250002)\n",
      "        Predict: 2.0\n",
      "      Else (feature 0 > -0.0833333)\n",
      "       Predict: 1.0\n",
      "  Tree 2 (weight 1.0):\n",
      "    If (feature 3 <= -0.625)\n",
      "     Predict: 0.0\n",
      "    Else (feature 3 > -0.625)\n",
      "     If (feature 3 <= 0.375)\n",
      "      If (feature 2 <= 0.2711865)\n",
      "       Predict: 2.0\n",
      "      Else (feature 2 > 0.2711865)\n",
      "       If (feature 1 <= -0.2916665)\n",
      "        If (feature 0 <= -0.0277778662275)\n",
      "         Predict: 1.0\n",
      "        Else (feature 0 > -0.0277778662275)\n",
      "         Predict: 1.0\n",
      "       Else (feature 1 > -0.2916665)\n",
      "        Predict: 2.0\n",
      "     Else (feature 3 > 0.375)\n",
      "      Predict: 1.0\n",
      "  Tree 3 (weight 1.0):\n",
      "    If (feature 3 <= -0.4166665)\n",
      "     Predict: 0.0\n",
      "    Else (feature 3 > -0.4166665)\n",
      "     If (feature 3 <= 0.2083335)\n",
      "      If (feature 2 <= 0.2711865)\n",
      "       Predict: 2.0\n",
      "      Else (feature 2 > 0.2711865)\n",
      "       If (feature 0 <= 0.138889)\n",
      "        Predict: 1.0\n",
      "       Else (feature 0 > 0.138889)\n",
      "        Predict: 2.0\n",
      "     Else (feature 3 > 0.2083335)\n",
      "      If (feature 3 <= 0.4583335)\n",
      "       If (feature 2 <= 0.4067795)\n",
      "        If (feature 0 <= -0.638889)\n",
      "         Predict: 1.0\n",
      "        Else (feature 0 > -0.638889)\n",
      "         Predict: 2.0\n",
      "       Else (feature 2 > 0.4067795)\n",
      "        Predict: 1.0\n",
      "      Else (feature 3 > 0.4583335)\n",
      "       Predict: 1.0\n",
      "  Tree 4 (weight 1.0):\n",
      "    If (feature 2 <= -0.5084744999999999)\n",
      "     Predict: 0.0\n",
      "    Else (feature 2 > -0.5084744999999999)\n",
      "     If (feature 2 <= 0.372881)\n",
      "      If (feature 0 <= -0.638889)\n",
      "       Predict: 1.0\n",
      "      Else (feature 0 > -0.638889)\n",
      "       If (feature 3 <= 0.375)\n",
      "        Predict: 2.0\n",
      "       Else (feature 3 > 0.375)\n",
      "        Predict: 1.0\n",
      "     Else (feature 2 > 0.372881)\n",
      "      Predict: 1.0\n",
      "  Tree 5 (weight 1.0):\n",
      "    If (feature 2 <= -0.5084744999999999)\n",
      "     Predict: 0.0\n",
      "    Else (feature 2 > -0.5084744999999999)\n",
      "     If (feature 2 <= 0.2711865)\n",
      "      If (feature 3 <= 0.2083335)\n",
      "       Predict: 2.0\n",
      "      Else (feature 3 > 0.2083335)\n",
      "       Predict: 1.0\n",
      "     Else (feature 2 > 0.2711865)\n",
      "      Predict: 1.0\n",
      "  Tree 6 (weight 1.0):\n",
      "    If (feature 3 <= -0.625)\n",
      "     Predict: 0.0\n",
      "    Else (feature 3 > -0.625)\n",
      "     If (feature 3 <= 0.2916665)\n",
      "      If (feature 2 <= 0.4067795)\n",
      "       If (feature 1 <= -0.7916665)\n",
      "        If (feature 0 <= -0.5833335)\n",
      "         Predict: 2.0\n",
      "        Else (feature 0 > -0.5833335)\n",
      "         Predict: 1.0\n",
      "       Else (feature 1 > -0.7916665)\n",
      "        Predict: 2.0\n",
      "      Else (feature 2 > 0.4067795)\n",
      "       Predict: 1.0\n",
      "     Else (feature 3 > 0.2916665)\n",
      "      If (feature 2 <= 0.305085)\n",
      "       If (feature 0 <= -0.0833333)\n",
      "        If (feature 3 <= 0.375)\n",
      "         Predict: 1.0\n",
      "        Else (feature 3 > 0.375)\n",
      "         Predict: 2.0\n",
      "       Else (feature 0 > -0.0833333)\n",
      "        Predict: 1.0\n",
      "      Else (feature 2 > 0.305085)\n",
      "       Predict: 1.0\n",
      "  Tree 7 (weight 1.0):\n",
      "    If (feature 0 <= -0.3055555)\n",
      "     If (feature 2 <= -0.5084744999999999)\n",
      "      Predict: 0.0\n",
      "     Else (feature 2 > -0.5084744999999999)\n",
      "      If (feature 0 <= -0.638889)\n",
      "       Predict: 1.0\n",
      "      Else (feature 0 > -0.638889)\n",
      "       Predict: 2.0\n",
      "    Else (feature 0 > -0.3055555)\n",
      "     If (feature 2 <= 0.372881)\n",
      "      If (feature 3 <= -0.7916665)\n",
      "       Predict: 0.0\n",
      "      Else (feature 3 > -0.7916665)\n",
      "       If (feature 3 <= 0.2083335)\n",
      "        If (feature 1 <= -0.7916665)\n",
      "         Predict: 1.0\n",
      "        Else (feature 1 > -0.7916665)\n",
      "         Predict: 2.0\n",
      "       Else (feature 3 > 0.2083335)\n",
      "        If (feature 2 <= 0.305085)\n",
      "         Predict: 1.0\n",
      "        Else (feature 2 > 0.305085)\n",
      "         Predict: 1.0\n",
      "     Else (feature 2 > 0.372881)\n",
      "      If (feature 0 <= -0.0277778662275)\n",
      "       If (feature 0 <= -0.138889)\n",
      "        Predict: 1.0\n",
      "       Else (feature 0 > -0.138889)\n",
      "        Predict: 2.0\n",
      "      Else (feature 0 > -0.0277778662275)\n",
      "       Predict: 1.0\n",
      "  Tree 8 (weight 1.0):\n",
      "    If (feature 3 <= -0.625)\n",
      "     Predict: 0.0\n",
      "    Else (feature 3 > -0.625)\n",
      "     If (feature 3 <= 0.375)\n",
      "      If (feature 2 <= 0.4067795)\n",
      "       If (feature 2 <= 0.2711865)\n",
      "        Predict: 2.0\n",
      "       Else (feature 2 > 0.2711865)\n",
      "        If (feature 0 <= 0.138889)\n",
      "         Predict: 1.0\n",
      "        Else (feature 0 > 0.138889)\n",
      "         Predict: 2.0\n",
      "      Else (feature 2 > 0.4067795)\n",
      "       Predict: 1.0\n",
      "     Else (feature 3 > 0.375)\n",
      "      If (feature 2 <= 0.305085)\n",
      "       If (feature 1 <= -0.1250002)\n",
      "        Predict: 1.0\n",
      "       Else (feature 1 > -0.1250002)\n",
      "        Predict: 2.0\n",
      "      Else (feature 2 > 0.305085)\n",
      "       Predict: 1.0\n",
      "  Tree 9 (weight 1.0):\n",
      "    If (feature 2 <= -0.7288135)\n",
      "     Predict: 0.0\n",
      "    Else (feature 2 > -0.7288135)\n",
      "     If (feature 0 <= 0.027777633772499997)\n",
      "      If (feature 3 <= 0.4583335)\n",
      "       If (feature 2 <= 0.16949150000000002)\n",
      "        Predict: 2.0\n",
      "       Else (feature 2 > 0.16949150000000002)\n",
      "        If (feature 1 <= -0.5416665)\n",
      "         Predict: 1.0\n",
      "        Else (feature 1 > -0.5416665)\n",
      "         Predict: 2.0\n",
      "      Else (feature 3 > 0.4583335)\n",
      "       Predict: 1.0\n",
      "     Else (feature 0 > 0.027777633772499997)\n",
      "      If (feature 3 <= 0.2083335)\n",
      "       Predict: 2.0\n",
      "      Else (feature 3 > 0.2083335)\n",
      "       Predict: 1.0\n",
      "\n"
     ]
    },
    {
     "data": {
      "text/plain": [
       "predictions = [label: double, features: vector ... 6 more fields]\n",
       "evaluator = mcEval_9ea21a3ed224\n",
       "accuracy = 1.0\n",
       "rfModel = RandomForestClassificationModel (uid=rfc_820a84b73246) with 10 trees\n"
      ]
     },
     "metadata": {},
     "output_type": "display_data"
    },
    {
     "data": {
      "text/plain": [
       "RandomForestClassificationModel (uid=rfc_820a84b73246) with 10 trees"
      ]
     },
     "execution_count": 7,
     "metadata": {},
     "output_type": "execute_result"
    }
   ],
   "source": [
    "// Make predictions.\n",
    "val predictions = model.transform(testData)\n",
    "\n",
    "// Select example rows to display.\n",
    "predictions.select(\"predictedLabel\", \"label\", \"features\").show(5)\n",
    "\n",
    "// Select (prediction, true label) and compute test error.\n",
    "val evaluator = new MulticlassClassificationEvaluator()\n",
    "  .setLabelCol(\"indexedLabel\")\n",
    "  .setPredictionCol(\"prediction\")\n",
    "  .setMetricName(\"accuracy\")\n",
    "val accuracy = evaluator.evaluate(predictions)\n",
    "println(\"Test Error = \" + (1.0 - accuracy))\n",
    "\n",
    "val rfModel = model.stages(2).asInstanceOf[RandomForestClassificationModel]\n",
    "println(\"Learned classification forest model:\\n\" + rfModel.toDebugString)"
   ]
  },
  {
   "cell_type": "code",
   "execution_count": null,
   "metadata": {},
   "outputs": [],
   "source": []
  }
 ],
 "metadata": {
  "kernelspec": {
   "display_name": "Apache Toree - Scala",
   "language": "scala",
   "name": "apache_toree_scala"
  },
  "language_info": {
   "codemirror_mode": "text/x-scala",
   "file_extension": ".scala",
   "mimetype": "text/x-scala",
   "name": "scala",
   "pygments_lexer": "scala",
   "version": "2.11.8"
  }
 },
 "nbformat": 4,
 "nbformat_minor": 2
}
